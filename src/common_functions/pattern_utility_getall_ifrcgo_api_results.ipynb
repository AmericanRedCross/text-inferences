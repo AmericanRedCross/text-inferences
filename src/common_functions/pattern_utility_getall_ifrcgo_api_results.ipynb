{
 "cells": [
  {
   "cell_type": "markdown",
   "id": "580ab28e",
   "metadata": {},
   "source": [
    "## This is meant to be a very basic basic pattern one could use to quickly on-board and become effective at interacting with IFRC GO. You should be able to copy/paste a single cell into a script and go.\n",
    "\n",
    "#### This example was built on the assumption that the APIs follow certain conventions:\n",
    "\n",
    "1) results are returned as a list of dicts called \"results\", and that pagination is dealt with using a \"next\" link\n",
    "\n",
    "2) that the overall response isn't going to be huge, because it just builds a complete result set in memory without periodic serialization\n",
    "\n"
   ]
  },
  {
   "cell_type": "code",
   "execution_count": 1,
   "id": "29e75562",
   "metadata": {},
   "outputs": [],
   "source": [
    "import requests\n",
    "import json\n"
   ]
  },
  {
   "cell_type": "code",
   "execution_count": 2,
   "id": "16a1294b",
   "metadata": {},
   "outputs": [],
   "source": [
    "# situational variables. To go https://goadmin.ifrc.org/docs/ to find API docs\n",
    "api_url = \"https://goadmin.ifrc.org/api/v2/surge_alert?foo\"\n"
   ]
  },
  {
   "cell_type": "code",
   "execution_count": 3,
   "id": "1849ae33",
   "metadata": {},
   "outputs": [
    {
     "name": "stdout",
     "output_type": "stream",
     "text": [
      "we're trying to keep this clean and simple, therefore your args are being ignored.\n",
      "calling https://goadmin.ifrc.org/api/v2/surge_alert?limit=50&offset=0\n",
      "calling https://goadmin.ifrc.org/api/v2/surge_alert/?limit=50&offset=50\n",
      "calling https://goadmin.ifrc.org/api/v2/surge_alert/?limit=50&offset=100\n",
      "calling https://goadmin.ifrc.org/api/v2/surge_alert/?limit=50&offset=150\n",
      "calling https://goadmin.ifrc.org/api/v2/surge_alert/?limit=50&offset=200\n",
      "calling https://goadmin.ifrc.org/api/v2/surge_alert/?limit=50&offset=250\n",
      "calling https://goadmin.ifrc.org/api/v2/surge_alert/?limit=50&offset=300\n",
      "calling https://goadmin.ifrc.org/api/v2/surge_alert/?limit=50&offset=350\n",
      "calling https://goadmin.ifrc.org/api/v2/surge_alert/?limit=50&offset=400\n",
      "calling https://goadmin.ifrc.org/api/v2/surge_alert/?limit=50&offset=450\n",
      "calling https://goadmin.ifrc.org/api/v2/surge_alert/?limit=50&offset=500\n",
      "calling https://goadmin.ifrc.org/api/v2/surge_alert/?limit=50&offset=550\n",
      "calling https://goadmin.ifrc.org/api/v2/surge_alert/?limit=50&offset=600\n",
      "calling https://goadmin.ifrc.org/api/v2/surge_alert/?limit=50&offset=650\n",
      "calling https://goadmin.ifrc.org/api/v2/surge_alert/?limit=50&offset=700\n",
      "calling https://goadmin.ifrc.org/api/v2/surge_alert/?limit=50&offset=750\n",
      "calling https://goadmin.ifrc.org/api/v2/surge_alert/?limit=50&offset=800\n",
      "calling https://goadmin.ifrc.org/api/v2/surge_alert/?limit=50&offset=850\n",
      "calling https://goadmin.ifrc.org/api/v2/surge_alert/?limit=50&offset=900\n",
      "calling https://goadmin.ifrc.org/api/v2/surge_alert/?limit=50&offset=950\n",
      "calling https://goadmin.ifrc.org/api/v2/surge_alert/?limit=50&offset=1000\n",
      "calling https://goadmin.ifrc.org/api/v2/surge_alert/?limit=50&offset=1050\n",
      "calling https://goadmin.ifrc.org/api/v2/surge_alert/?limit=50&offset=1100\n",
      "calling https://goadmin.ifrc.org/api/v2/surge_alert/?limit=50&offset=1150\n",
      "calling https://goadmin.ifrc.org/api/v2/surge_alert/?limit=50&offset=1200\n",
      "calling https://goadmin.ifrc.org/api/v2/surge_alert/?limit=50&offset=1250\n",
      "calling https://goadmin.ifrc.org/api/v2/surge_alert/?limit=50&offset=1300\n",
      "calling https://goadmin.ifrc.org/api/v2/surge_alert/?limit=50&offset=1350\n",
      "calling https://goadmin.ifrc.org/api/v2/surge_alert/?limit=50&offset=1400\n",
      "calling https://goadmin.ifrc.org/api/v2/surge_alert/?limit=50&offset=1450\n",
      "calling https://goadmin.ifrc.org/api/v2/surge_alert/?limit=50&offset=1500\n",
      "calling https://goadmin.ifrc.org/api/v2/surge_alert/?limit=50&offset=1550\n"
     ]
    }
   ],
   "source": [
    "def get_pull_everything_from_ifrcgo_endpoint(api_url, offset=0, limit=50):\n",
    "    \n",
    "    if api_url.find(\"?\") >= 0:\n",
    "        api_url = api_url.split(\"?\")[0]\n",
    "        print(f\"we're trying to keep this clean and simple, therefore your args are being ignored in favor of defaults.\")\n",
    "    \n",
    "    def format_api_call(api_call, offset=0, limit=50):\n",
    "        return f'{api_call}?limit={limit}&offset={offset}' if not \"?\" in api_call else api_call\n",
    "    \n",
    "   \n",
    "    api_call = format_api_call(api_url)\n",
    "\n",
    "\n",
    "    result_list = []\n",
    "\n",
    "    while True:\n",
    "        print(f'calling {api_call}')\n",
    "        try:\n",
    "            response_json = requests.get(api_call).json()\n",
    "            for r in response_json['results']:\n",
    "                result_list.append(r)\n",
    "        except Exception as e:\n",
    "            print(f\"{api_call} threw an exeption {e}\")\n",
    "\n",
    "        if response_json['next']:\n",
    "            api_call = response_json['next']  \n",
    "\n",
    "        else:\n",
    "            return result_list\n",
    "        \n",
    "result_list = get_pull_everything_from_ifrcgo_endpoint(api_url)\n",
    "print(f\"you've got {len(result_list)} results in a list. Enjoy!\")"
   ]
  }
 ],
 "metadata": {
  "kernelspec": {
   "display_name": "Python 3 (ipykernel)",
   "language": "python",
   "name": "python3"
  },
  "language_info": {
   "codemirror_mode": {
    "name": "ipython",
    "version": 3
   },
   "file_extension": ".py",
   "mimetype": "text/x-python",
   "name": "python",
   "nbconvert_exporter": "python",
   "pygments_lexer": "ipython3",
   "version": "3.10.9"
  }
 },
 "nbformat": 4,
 "nbformat_minor": 5
}
