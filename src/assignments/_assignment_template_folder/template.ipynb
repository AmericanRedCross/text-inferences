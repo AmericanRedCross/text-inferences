{
 "cells": [
  {
   "cell_type": "code",
   "execution_count": 1,
   "id": "e8c5b477",
   "metadata": {},
   "outputs": [
    {
     "data": {
      "text/html": [
       "<style>.container { width:70% !important; }</style>"
      ],
      "text/plain": [
       "<IPython.core.display.HTML object>"
      ]
     },
     "metadata": {},
     "output_type": "display_data"
    }
   ],
   "source": [
    "from IPython.display import display, HTML\n",
    "display(HTML(\"<style>.container { width:70% !important; }</style>\"))\n"
   ]
  },
  {
   "cell_type": "code",
   "execution_count": 2,
   "id": "7a89ee5f",
   "metadata": {},
   "outputs": [],
   "source": [
    "import os\n",
    "import sys\n",
    "from datetime import datetime\n",
    "\n",
    "import pandas as pd\n",
    "import numpy as np\n",
    "pd.set_option('display.max_columns', None)\n",
    "pd.set_option('max_colwidth', None)\n",
    "\n",
    "\n",
    "\n",
    "\n",
    "\n",
    "# add some common utilities\n",
    "sys.path.append(os.path.join(os.path.realpath('.'),'..','..','common_functions'))\n",
    "\n",
    "import file_utils"
   ]
  },
  {
   "cell_type": "markdown",
   "id": "458aff90",
   "metadata": {},
   "source": [
    "### Assignment-Specific Variables"
   ]
  },
  {
   "cell_type": "code",
   "execution_count": 3,
   "id": "a0422392",
   "metadata": {},
   "outputs": [],
   "source": [
    "# this will be added to any output file along with date/time for future tracability\n",
    "script_name = \"template\"\n"
   ]
  },
  {
   "cell_type": "markdown",
   "id": "e7034feb",
   "metadata": {},
   "source": [
    "### Output Results\n",
    "This pattern will ensure the output file has a unique(ish) name with enough metadata to easily\n",
    "trace back to the what and when of the script run. Unique names to the minute."
   ]
  },
  {
   "cell_type": "code",
   "execution_count": 9,
   "id": "6732bc8d",
   "metadata": {},
   "outputs": [
    {
     "data": {
      "text/plain": [
       "'file_outputs\\\\template_2023-05-21_0801_res.csv'"
      ]
     },
     "execution_count": 9,
     "metadata": {},
     "output_type": "execute_result"
    }
   ],
   "source": [
    "file_utils.format_outfile_name(script_name)"
   ]
  },
  {
   "cell_type": "code",
   "execution_count": null,
   "id": "adb0b4c2",
   "metadata": {},
   "outputs": [],
   "source": []
  }
 ],
 "metadata": {
  "kernelspec": {
   "display_name": "Python 3 (ipykernel)",
   "language": "python",
   "name": "python3"
  },
  "language_info": {
   "codemirror_mode": {
    "name": "ipython",
    "version": 3
   },
   "file_extension": ".py",
   "mimetype": "text/x-python",
   "name": "python",
   "nbconvert_exporter": "python",
   "pygments_lexer": "ipython3",
   "version": "3.10.9"
  }
 },
 "nbformat": 4,
 "nbformat_minor": 5
}
